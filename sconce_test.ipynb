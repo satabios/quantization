{
 "cells": [
  {
   "cell_type": "code",
   "id": "initial_id",
   "metadata": {
    "collapsed": true,
    "ExecuteTime": {
     "end_time": "2024-08-15T06:34:46.039649Z",
     "start_time": "2024-08-15T06:34:46.037Z"
    }
   },
   "source": [
    "from quant.sconce import sconce\n",
    "from models import VGG\n",
    "import torch\n",
    "import torch.nn as nn\n",
    "import torch.nn.functional as F\n",
    "from dataset import dataloader\n",
    "import torch.optim as optim\n"
   ],
   "outputs": [],
   "execution_count": 6
  },
  {
   "metadata": {
    "ExecuteTime": {
     "end_time": "2024-08-15T06:34:46.613747Z",
     "start_time": "2024-08-15T06:34:46.540627Z"
    }
   },
   "cell_type": "code",
   "source": [
    "\n",
    "vgg = VGG()\n",
    "vgg.load_state_dict(torch.load(\"vgg.cifar.pretrained.pth\"))"
   ],
   "id": "d75d0632db2f3d7b",
   "outputs": [
    {
     "data": {
      "text/plain": [
       "<All keys matched successfully>"
      ]
     },
     "execution_count": 7,
     "metadata": {},
     "output_type": "execute_result"
    }
   ],
   "execution_count": 7
  },
  {
   "metadata": {
    "ExecuteTime": {
     "end_time": "2024-08-15T06:37:30.751380Z",
     "start_time": "2024-08-15T06:37:29.452252Z"
    }
   },
   "cell_type": "code",
   "source": [
    "\n",
    "sconces = sconce()\n",
    "sconces.model= vgg # Model Definition\n",
    "sconces.criterion = nn.CrossEntropyLoss() # Loss\n",
    "sconces.optimizer= optim.Adam(sconces.model.parameters(), lr=1e-4)\n",
    "sconces.scheduler = optim.lr_scheduler.CosineAnnealingLR(sconces.optimizer, T_max=200)\n",
    "sconces.dataloader = dataloader\n",
    "sconces.epochs = 5 #Number of time we iterate over the data\n",
    "sconces.device  = 'cuda'\n",
    "sconces.experiment_name = \"vgg-qat\"\n",
    "print(sconces.evaluate())"
   ],
   "id": "664b6e8ff52b5022",
   "outputs": [
    {
     "name": "stderr",
     "output_type": "stream",
     "text": [
      "                                                     "
     ]
    },
    {
     "name": "stdout",
     "output_type": "stream",
     "text": [
      "93.13627254509018\n"
     ]
    },
    {
     "name": "stderr",
     "output_type": "stream",
     "text": [
      "\r"
     ]
    }
   ],
   "execution_count": 11
  },
  {
   "metadata": {
    "ExecuteTime": {
     "end_time": "2024-08-15T06:39:00.393486Z",
     "start_time": "2024-08-15T06:37:31.574821Z"
    }
   },
   "cell_type": "code",
   "source": "model_int8, model_fp32_trained = sconces.qat()",
   "id": "2c478436dc3368e5",
   "outputs": [
    {
     "name": "stdout",
     "output_type": "stream",
     "text": [
      "\n",
      " \n",
      "==================== Quantization-Aware Training(QAT) ====================\n"
     ]
    },
    {
     "name": "stderr",
     "output_type": "stream",
     "text": [
      "                                                      \r"
     ]
    },
    {
     "name": "stdout",
     "output_type": "stream",
     "text": [
      "Epoch:1 Train Loss: 0.00000 Validation Accuracy: 93.10621\n"
     ]
    },
    {
     "name": "stderr",
     "output_type": "stream",
     "text": [
      "                                                      \r"
     ]
    },
    {
     "name": "stdout",
     "output_type": "stream",
     "text": [
      "Epoch:2 Train Loss: 0.00000 Validation Accuracy: 93.01603\n"
     ]
    },
    {
     "name": "stderr",
     "output_type": "stream",
     "text": [
      "                                                      \r"
     ]
    },
    {
     "name": "stdout",
     "output_type": "stream",
     "text": [
      "Epoch:3 Train Loss: 0.00000 Validation Accuracy: 93.13627\n"
     ]
    },
    {
     "name": "stderr",
     "output_type": "stream",
     "text": [
      "                                                      \r"
     ]
    },
    {
     "name": "stdout",
     "output_type": "stream",
     "text": [
      "Epoch:4 Train Loss: 0.00000 Validation Accuracy: 93.12625\n"
     ]
    },
    {
     "name": "stderr",
     "output_type": "stream",
     "text": [
      "                                                      \r"
     ]
    },
    {
     "name": "stdout",
     "output_type": "stream",
     "text": [
      "Epoch:5 Train Loss: 0.00000 Validation Accuracy: 92.97595\n"
     ]
    }
   ],
   "execution_count": 12
  },
  {
   "metadata": {
    "ExecuteTime": {
     "end_time": "2024-08-15T06:39:38.355566Z",
     "start_time": "2024-08-15T06:39:38.318911Z"
    }
   },
   "cell_type": "code",
   "source": "model_int8",
   "id": "ad217916b8445add",
   "outputs": [
    {
     "data": {
      "text/plain": [
       "GraphModule(\n",
       "  (backbone): Module(\n",
       "    (conv0): QuantizedConvReLU2d(3, 64, kernel_size=(3, 3), stride=(1, 1), scale=0.04432808235287666, zero_point=0, padding=(1, 1))\n",
       "    (conv1): QuantizedConvReLU2d(64, 128, kernel_size=(3, 3), stride=(1, 1), scale=0.026911167427897453, zero_point=0, padding=(1, 1))\n",
       "    (pool0): MaxPool2d(kernel_size=2, stride=2, padding=0, dilation=1, ceil_mode=False)\n",
       "    (conv2): QuantizedConvReLU2d(128, 256, kernel_size=(3, 3), stride=(1, 1), scale=0.014782778918743134, zero_point=0, padding=(1, 1))\n",
       "    (conv3): QuantizedConvReLU2d(256, 256, kernel_size=(3, 3), stride=(1, 1), scale=0.016939718276262283, zero_point=0, padding=(1, 1))\n",
       "    (pool1): MaxPool2d(kernel_size=2, stride=2, padding=0, dilation=1, ceil_mode=False)\n",
       "    (conv4): QuantizedConvReLU2d(256, 512, kernel_size=(3, 3), stride=(1, 1), scale=0.015096738934516907, zero_point=0, padding=(1, 1))\n",
       "    (conv5): QuantizedConvReLU2d(512, 512, kernel_size=(3, 3), stride=(1, 1), scale=0.013277239166200161, zero_point=0, padding=(1, 1))\n",
       "    (pool2): MaxPool2d(kernel_size=2, stride=2, padding=0, dilation=1, ceil_mode=False)\n",
       "    (conv6): QuantizedConvReLU2d(512, 512, kernel_size=(3, 3), stride=(1, 1), scale=0.01436113752424717, zero_point=0, padding=(1, 1))\n",
       "    (conv7): QuantizedConvReLU2d(512, 512, kernel_size=(3, 3), stride=(1, 1), scale=0.04478784278035164, zero_point=0, padding=(1, 1))\n",
       "    (pool3): MaxPool2d(kernel_size=2, stride=2, padding=0, dilation=1, ceil_mode=False)\n",
       "  )\n",
       "  (classifier): QuantizedLinear(in_features=512, out_features=10, scale=0.2870802879333496, zero_point=28, qscheme=torch.per_channel_affine)\n",
       ")"
      ]
     },
     "execution_count": 13,
     "metadata": {},
     "output_type": "execute_result"
    }
   ],
   "execution_count": 13
  },
  {
   "metadata": {
    "ExecuteTime": {
     "end_time": "2024-08-15T06:46:17.782744Z",
     "start_time": "2024-08-15T06:46:17.774369Z"
    }
   },
   "cell_type": "code",
   "source": "model_int8.backbone.conv0.weight()",
   "id": "f9b71f2054c531d7",
   "outputs": [
    {
     "data": {
      "text/plain": [
       "tensor([[[[ 0.1097,  0.1978,  0.1817],\n",
       "          [-0.0450, -0.0144, -0.0809],\n",
       "          [-0.0629, -0.0665, -0.1025]],\n",
       "\n",
       "         [[ 0.1169,  0.2230,  0.2104],\n",
       "          [-0.0773, -0.0270, -0.1133],\n",
       "          [-0.1924, -0.1852, -0.1852]],\n",
       "\n",
       "         [[ 0.1097,  0.2284,  0.1960],\n",
       "          [-0.0144, -0.0036, -0.0054],\n",
       "          [-0.1781, -0.1277, -0.1727]]],\n",
       "\n",
       "\n",
       "        [[[-0.0288,  0.3023,  0.3657],\n",
       "          [ 0.1152,  0.1670,  0.1209],\n",
       "          [ 0.0029,  0.0317, -0.1382]],\n",
       "\n",
       "         [[-0.1555, -0.0230,  0.0230],\n",
       "          [ 0.0029, -0.1699, -0.1814],\n",
       "          [ 0.1267, -0.0864, -0.1699]],\n",
       "\n",
       "         [[-0.1526, -0.1325, -0.1440],\n",
       "          [-0.1152, -0.2995, -0.2361],\n",
       "          [ 0.0086, -0.0489, -0.1641]]],\n",
       "\n",
       "\n",
       "        [[[-0.5869, -0.8190, -0.2386],\n",
       "          [-0.0774, -0.1548,  0.2451],\n",
       "          [ 0.3225,  0.5224,  0.2967]],\n",
       "\n",
       "         [[ 0.1161, -0.0193,  0.3934],\n",
       "          [ 0.1741,  0.2902,  0.4708],\n",
       "          [ 0.0258,  0.2451, -0.1161]],\n",
       "\n",
       "         [[ 0.4063,  0.1741,  0.5030],\n",
       "          [ 0.0000, -0.3934, -0.0322],\n",
       "          [-0.2902, -0.5288, -0.6191]]],\n",
       "\n",
       "\n",
       "        ...,\n",
       "\n",
       "\n",
       "        [[[-0.0979, -0.2056, -0.1371],\n",
       "          [-0.1028,  0.1836,  0.0024],\n",
       "          [ 0.0661,  0.2399, -0.0122]],\n",
       "\n",
       "         [[ 0.0710, -0.0392, -0.0416],\n",
       "          [-0.0098,  0.1763, -0.0024],\n",
       "          [-0.0147,  0.0759, -0.1053]],\n",
       "\n",
       "         [[ 0.1910,  0.0881,  0.1028],\n",
       "          [-0.2007, -0.0392, -0.0783],\n",
       "          [-0.3109, -0.2546, -0.2766]]],\n",
       "\n",
       "\n",
       "        [[[-0.1914, -0.5536, -0.0673],\n",
       "          [-0.1552, -0.2690, -0.0517],\n",
       "          [-0.2380, -0.1966,  0.1604]],\n",
       "\n",
       "         [[ 0.2794,  0.1190,  0.1759],\n",
       "          [ 0.5484,  0.6570,  0.3828],\n",
       "          [ 0.0207,  0.1500,  0.1914]],\n",
       "\n",
       "         [[ 0.2742, -0.1759, -0.0466],\n",
       "          [ 0.3570,  0.0517, -0.2225],\n",
       "          [-0.2639, -0.4656, -0.3777]]],\n",
       "\n",
       "\n",
       "        [[[ 0.0295,  0.0295, -0.0656],\n",
       "          [ 0.1208,  0.1123, -0.0314],\n",
       "          [ 0.1018,  0.0352,  0.0590]],\n",
       "\n",
       "         [[ 0.1075,  0.0304, -0.0704],\n",
       "          [ 0.1027,  0.0466, -0.0400],\n",
       "          [ 0.0247, -0.0171,  0.0447]],\n",
       "\n",
       "         [[ 0.0875, -0.0010, -0.0057],\n",
       "          [-0.0076,  0.0219, -0.0048],\n",
       "          [-0.0913, -0.1046, -0.0371]]]], size=(64, 3, 3, 3),\n",
       "       dtype=torch.qint8, quantization_scheme=torch.per_channel_affine,\n",
       "       scale=tensor([0.0018, 0.0029, 0.0064, 0.0018, 0.0108, 0.0026, 0.0117, 0.0018, 0.0025,\n",
       "        0.0015, 0.0066, 0.0015, 0.0056, 0.0042, 0.0034, 0.0011, 0.0127, 0.0042,\n",
       "        0.0040, 0.0028, 0.0135, 0.0042, 0.0024, 0.0077, 0.0026, 0.0024, 0.0020,\n",
       "        0.0085, 0.0016, 0.0018, 0.0022, 0.0014, 0.0026, 0.0013, 0.0042, 0.0024,\n",
       "        0.0029, 0.0126, 0.0027, 0.0091, 0.0011, 0.0024, 0.0027, 0.0062, 0.0032,\n",
       "        0.0021, 0.0088, 0.0056, 0.0042, 0.0044, 0.0207, 0.0032, 0.0004, 0.0073,\n",
       "        0.0028, 0.0162, 0.0040, 0.0038, 0.0014, 0.0017, 0.0062, 0.0024, 0.0052,\n",
       "        0.0010], dtype=torch.float64),\n",
       "       zero_point=tensor([0, 0, 0, 0, 0, 0, 0, 0, 0, 0, 0, 0, 0, 0, 0, 0, 0, 0, 0, 0, 0, 0, 0, 0,\n",
       "        0, 0, 0, 0, 0, 0, 0, 0, 0, 0, 0, 0, 0, 0, 0, 0, 0, 0, 0, 0, 0, 0, 0, 0,\n",
       "        0, 0, 0, 0, 0, 0, 0, 0, 0, 0, 0, 0, 0, 0, 0, 0]),\n",
       "       axis=0)"
      ]
     },
     "execution_count": 21,
     "metadata": {},
     "output_type": "execute_result"
    }
   ],
   "execution_count": 21
  },
  {
   "metadata": {
    "ExecuteTime": {
     "end_time": "2024-08-15T06:49:45.127382Z",
     "start_time": "2024-08-15T06:49:45.111425Z"
    }
   },
   "cell_type": "code",
   "source": [
    "\n",
    "model_int8.backbone.conv0.__dict__"
   ],
   "id": "9dbf9f8f941ed082",
   "outputs": [
    {
     "data": {
      "text/plain": [
       "{'training': True,\n",
       " '_parameters': OrderedDict(),\n",
       " '_buffers': OrderedDict(),\n",
       " '_non_persistent_buffers_set': set(),\n",
       " '_backward_pre_hooks': OrderedDict(),\n",
       " '_backward_hooks': OrderedDict(),\n",
       " '_is_full_backward_hook': None,\n",
       " '_forward_hooks': OrderedDict(),\n",
       " '_forward_hooks_with_kwargs': OrderedDict(),\n",
       " '_forward_hooks_always_called': OrderedDict(),\n",
       " '_forward_pre_hooks': OrderedDict(),\n",
       " '_forward_pre_hooks_with_kwargs': OrderedDict(),\n",
       " '_state_dict_hooks': OrderedDict(),\n",
       " '_state_dict_pre_hooks': OrderedDict(),\n",
       " '_load_state_dict_pre_hooks': OrderedDict(),\n",
       " '_load_state_dict_post_hooks': OrderedDict(),\n",
       " '_modules': OrderedDict(),\n",
       " 'in_channels': 3,\n",
       " 'out_channels': 64,\n",
       " 'kernel_size': (3, 3),\n",
       " 'stride': (1, 1),\n",
       " 'padding': (1, 1),\n",
       " 'dilation': (1, 1),\n",
       " 'transposed': False,\n",
       " 'output_padding': (0, 0),\n",
       " 'groups': 1,\n",
       " 'padding_mode': 'zeros',\n",
       " '_packed_params': <torch.ScriptObject object at 0x2308dad0>,\n",
       " 'scale': 0.04432808235287666,\n",
       " 'zero_point': 0}"
      ]
     },
     "execution_count": 27,
     "metadata": {},
     "output_type": "execute_result"
    }
   ],
   "execution_count": 27
  },
  {
   "metadata": {},
   "cell_type": "code",
   "outputs": [],
   "execution_count": null,
   "source": "scale=0.04432808235287666",
   "id": "1fcc7cc2dd5fe245"
  },
  {
   "metadata": {
    "ExecuteTime": {
     "end_time": "2024-08-15T06:46:43.631751Z",
     "start_time": "2024-08-15T06:46:43.625873Z"
    }
   },
   "cell_type": "code",
   "source": [
    "sum([0.0018, 0.0029, 0.0064, 0.0018, 0.0108, 0.0026, 0.0117, 0.0018, 0.0025,\n",
    "        0.0015, 0.0066, 0.0015, 0.0056, 0.0042, 0.0034, 0.0011, 0.0127, 0.0042,\n",
    "        0.0040, 0.0028, 0.0135, 0.0042, 0.0024, 0.0077, 0.0026, 0.0024, 0.0020,\n",
    "        0.0085, 0.0016, 0.0018, 0.0022, 0.0014, 0.0026, 0.0013, 0.0042, 0.0024,\n",
    "        0.0029, 0.0126, 0.0027, 0.0091, 0.0011, 0.0024, 0.0027, 0.0062, 0.0032,\n",
    "        0.0021, 0.0088, 0.0056, 0.0042, 0.0044, 0.0207, 0.0032, 0.0004, 0.0073,\n",
    "        0.0028, 0.0162, 0.0040, 0.0038, 0.0014, 0.0017, 0.0062, 0.0024, 0.0052,\n",
    "        0.0010])"
   ],
   "id": "44c339d03528bbb6",
   "outputs": [
    {
     "data": {
      "text/plain": [
       "0.29500000000000004"
      ]
     },
     "execution_count": 22,
     "metadata": {},
     "output_type": "execute_result"
    }
   ],
   "execution_count": 22
  },
  {
   "metadata": {},
   "cell_type": "code",
   "outputs": [],
   "execution_count": null,
   "source": "",
   "id": "f968821610546224"
  }
 ],
 "metadata": {
  "kernelspec": {
   "display_name": "Python 3",
   "language": "python",
   "name": "python3"
  },
  "language_info": {
   "codemirror_mode": {
    "name": "ipython",
    "version": 2
   },
   "file_extension": ".py",
   "mimetype": "text/x-python",
   "name": "python",
   "nbconvert_exporter": "python",
   "pygments_lexer": "ipython2",
   "version": "2.7.6"
  }
 },
 "nbformat": 4,
 "nbformat_minor": 5
}
