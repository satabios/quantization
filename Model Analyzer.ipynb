{
 "cells": [
  {
   "cell_type": "code",
   "id": "initial_id",
   "metadata": {
    "collapsed": true,
    "ExecuteTime": {
     "end_time": "2024-09-16T06:50:03.737498Z",
     "start_time": "2024-09-16T06:50:03.734360Z"
    }
   },
   "source": [
    "import torch\n",
    "import torch\n",
    "from torch import nn\n",
    "from collections import OrderedDict"
   ],
   "outputs": [],
   "execution_count": 2
  },
  {
   "metadata": {
    "ExecuteTime": {
     "end_time": "2024-09-16T06:50:17.634900Z",
     "start_time": "2024-09-16T06:50:17.629250Z"
    }
   },
   "cell_type": "code",
   "source": [
    "class LayerInspector(nn.Module):\n",
    "    def __init__(self, model):\n",
    "        super().__init__()\n",
    "        self.model = model\n",
    "        self.layers = OrderedDict()\n",
    "        self._register_hooks()\n",
    "\n",
    "    def _register_hooks(self):\n",
    "        def hook(name):\n",
    "            def fn(module, input, output):\n",
    "                self.layers[name] = {\n",
    "                    'input': input,\n",
    "                    'output': output,\n",
    "                    'module': module\n",
    "                }\n",
    "            return fn\n",
    "\n",
    "        for name, module in self.model.named_modules():\n",
    "            if list(module.children()) == []:  # leaf module\n",
    "                module.register_forward_hook(hook(name))\n",
    "\n",
    "    def forward(self, x):\n",
    "        return self.model(x)\n",
    "\n",
    "# Example usage:\n",
    "def inspect_model(model, sample_input):\n",
    "    inspector = LayerInspector(model)\n",
    "    inspector(sample_input)\n",
    "    return inspector.layers\n"
   ],
   "id": "fe204669338276cb",
   "outputs": [],
   "execution_count": 3
  },
  {
   "metadata": {
    "ExecuteTime": {
     "end_time": "2024-09-16T06:52:09.577955Z",
     "start_time": "2024-09-16T06:52:09.556314Z"
    }
   },
   "cell_type": "code",
   "source": [
    "sample_input = torch.randn(1, 3, 32, 32)\n",
    "from quant.models import SimpleCNN\n",
    "model = SimpleCNN().to('cpu'\n",
    "                       '')\n",
    "model.load_state_dict(torch.load('data/weights/best_model.pth',map_location=torch.device('cpu'),weights_only=True ))\n",
    "\n",
    "layer_info = inspect_model(model, sample_input)\n"
   ],
   "id": "14b130e3e2ef7811",
   "outputs": [],
   "execution_count": 9
  },
  {
   "metadata": {
    "ExecuteTime": {
     "end_time": "2024-09-16T06:52:20.262244Z",
     "start_time": "2024-09-16T06:52:20.259439Z"
    }
   },
   "cell_type": "code",
   "source": [
    "for name, info in layer_info.items():\n",
    "    print(f\"Layer: {name}\")\n",
    "    print(f\"  Module: {info['module']}\")\n",
    "    print(f\"  Input shape: {[tuple(t.shape) for t in info['input']]}\")\n",
    "    print(f\"  Output shape: {tuple(info['output'].shape)}\")\n",
    "    print()"
   ],
   "id": "3771bc3918c4e7de",
   "outputs": [
    {
     "name": "stdout",
     "output_type": "stream",
     "text": [
      "Layer: conv1\n",
      "  Module: Conv2d(3, 32, kernel_size=(3, 3), stride=(1, 1), padding=(1, 1))\n",
      "  Input shape: [(1, 3, 32, 32)]\n",
      "  Output shape: (1, 32, 32, 32)\n",
      "\n",
      "Layer: pool\n",
      "  Module: MaxPool2d(kernel_size=2, stride=2, padding=0, dilation=1, ceil_mode=False)\n",
      "  Input shape: [(1, 64, 16, 16)]\n",
      "  Output shape: (1, 64, 8, 8)\n",
      "\n",
      "Layer: conv2\n",
      "  Module: Conv2d(32, 64, kernel_size=(3, 3), stride=(1, 1), padding=(1, 1))\n",
      "  Input shape: [(1, 32, 16, 16)]\n",
      "  Output shape: (1, 64, 16, 16)\n",
      "\n",
      "Layer: fc1\n",
      "  Module: Linear(in_features=4096, out_features=512, bias=True)\n",
      "  Input shape: [(1, 4096)]\n",
      "  Output shape: (1, 512)\n",
      "\n",
      "Layer: fc2\n",
      "  Module: Linear(in_features=512, out_features=10, bias=True)\n",
      "  Input shape: [(1, 512)]\n",
      "  Output shape: (1, 10)\n",
      "\n"
     ]
    }
   ],
   "execution_count": 10
  },
  {
   "metadata": {},
   "cell_type": "code",
   "outputs": [],
   "execution_count": null,
   "source": "\n",
   "id": "2dc7ed986439adc4"
  }
 ],
 "metadata": {
  "kernelspec": {
   "display_name": "Python 3",
   "language": "python",
   "name": "python3"
  },
  "language_info": {
   "codemirror_mode": {
    "name": "ipython",
    "version": 2
   },
   "file_extension": ".py",
   "mimetype": "text/x-python",
   "name": "python",
   "nbconvert_exporter": "python",
   "pygments_lexer": "ipython2",
   "version": "2.7.6"
  }
 },
 "nbformat": 4,
 "nbformat_minor": 5
}
