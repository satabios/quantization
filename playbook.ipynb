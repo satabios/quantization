{
 "cells": [
  {
   "cell_type": "code",
   "execution_count": 1,
   "metadata": {},
   "outputs": [],
   "source": [
    "import torch\n",
    "import torch.nn as nn\n",
    "import torch.nn.functional as F\n",
    "from smq_quantizer import W8A8\n",
    "from transformers import AutoModelForCausalLM, AutoTokenizer, pipeline\n",
    "\n",
    "\n",
    "# from helper import W8A16LinearLayer, replace_linear_with_target_and_quantize\n"
   ]
  },
  {
   "cell_type": "code",
   "execution_count": 2,
   "metadata": {},
   "outputs": [],
   "source": [
    "model_id = \"codegen-350M-mono\"\n",
    "tokenizer = AutoTokenizer.from_pretrained(model_id)"
   ]
  },
  {
   "cell_type": "code",
   "execution_count": 3,
   "metadata": {},
   "outputs": [],
   "source": [
    "\n",
    "# ############# From the previous lesson(s) of \"Building your own Quantizer\"\n",
    "# def w8_a16_forward(weight, input, scales, bias=None):\n",
    "    \n",
    "#     casted_weights = weight.to(input.dtype)\n",
    "#     output = F.linear(input, casted_weights) * scales\n",
    "    \n",
    "#     if bias is not None:\n",
    "#         output = output + bias\n",
    "      \n",
    "#     return output\n",
    "\n",
    "# class W8A16LinearLayer(nn.Module):\n",
    "#     def __init__(self, in_features, out_features, \n",
    "#                  bias=True, dtype=torch.float32):\n",
    "#         super().__init__()\n",
    "        \n",
    "        \n",
    "#         self.register_buffer(\n",
    "#             \"int8_weights\",\n",
    "#             torch.randint(\n",
    "#                 -128, 127, (out_features, in_features), dtype=torch.int8\n",
    "#             )\n",
    "#         )\n",
    "        \n",
    "#         self.register_buffer(\"scales\", \n",
    "#                              torch.randn((out_features), dtype=dtype))\n",
    "        \n",
    "#         if bias:\n",
    "#             self.register_buffer(\"bias\", \n",
    "#                                  torch.randn((1, out_features), \n",
    "#                                              dtype=dtype))\n",
    "        \n",
    "#         else:\n",
    "#             self.bias = None\n",
    "\n",
    "#     def quantize(self, weights):\n",
    "#         w_fp32 = weights.clone().to(torch.float32)\n",
    "\n",
    "#         scales = w_fp32.abs().max(dim=-1).values / 127\n",
    "#         scales = scales.to(weights.dtype)\n",
    "\n",
    "#         int8_weights = torch.round(weights\n",
    "#                         /scales.unsqueeze(1)).to(torch.int8)\n",
    "\n",
    "#         self.int8_weights = int8_weights\n",
    "#         self.scales = scales\n",
    "    \n",
    "#     def forward(self, input):\n",
    "#         return w8_a16_forward(self.int8_weights, \n",
    "#                               input, self.scales, self.bias)\n",
    "\n",
    "\n",
    "# def replace_linear_with_target_and_quantize(module, \n",
    "#                                target_class, module_name_to_exclude):\n",
    "#     for name, child in module.named_children():\n",
    "#         if isinstance(child, nn.Linear) and not \\\n",
    "#         any([x == name for x in module_name_to_exclude]):\n",
    "#             old_bias = child.bias\n",
    "#             old_weight = child.weight\n",
    "\n",
    "#             new_module = target_class.from_float(child, output_quant=True) #,  weight_quant=\"per_token\", act_quant=\"per_token\")\n",
    "#             setattr(module, name, new_module)\n",
    "\n",
    "#             # getattr(module, name).quantize(old_weight)\n",
    "            \n",
    "#             if old_bias is not None:\n",
    "#               getattr(module, name).bias = old_bias\n",
    "#         else:\n",
    "#             # Recursively call the function for nested modules\n",
    "#             replace_linear_with_target_and_quantize(child, \n",
    "#                      target_class, module_name_to_exclude)\n",
    "# ###################################"
   ]
  },
  {
   "cell_type": "code",
   "execution_count": 4,
   "metadata": {},
   "outputs": [],
   "source": [
    "\n",
    "\n",
    "\n",
    "# model = AutoModelForCausalLM.from_pretrained(model_id, \n",
    "#                                     torch_dtype=torch.bfloat16, \n",
    "#                                              low_cpu_mem_usage=True)\n",
    "# tokenizer = AutoTokenizer.from_pretrained(model_id)"
   ]
  },
  {
   "cell_type": "code",
   "execution_count": 5,
   "metadata": {},
   "outputs": [],
   "source": [
    "# pipe = pipeline(\"text-generation\", model=model, tokenizer=tokenizer)"
   ]
  },
  {
   "cell_type": "code",
   "execution_count": 6,
   "metadata": {},
   "outputs": [],
   "source": [
    "# print(pipe(\"def hello_world():\", max_new_tokens=20, do_sample=False))"
   ]
  },
  {
   "cell_type": "code",
   "execution_count": 7,
   "metadata": {},
   "outputs": [],
   "source": [
    "# print(\"Model before:\\n\\n\", model)"
   ]
  },
  {
   "cell_type": "code",
   "execution_count": 8,
   "metadata": {},
   "outputs": [],
   "source": [
    "# replace_linear_with_target_and_quantize(model, \n",
    "#                                         W8A16LinearLayer, [\"lm_head\"])\n",
    "\n",
    "# print(\"Model after:\\n\\n\", pipe.model)\n",
    "# print(pipe(\"def hello_world():\", max_new_tokens=20, \n",
    "#            do_sample=False)[0][\"generated_text\"])"
   ]
  },
  {
   "cell_type": "code",
   "execution_count": 10,
   "metadata": {},
   "outputs": [
    {
     "name": "stdout",
     "output_type": "stream",
     "text": [
      "Model: CodeGenForCausalLM(\n",
      "  (transformer): CodeGenModel(\n",
      "    (wte): Embedding(51200, 1024)\n",
      "    (drop): Dropout(p=0.0, inplace=False)\n",
      "    (h): ModuleList(\n",
      "      (0-19): 20 x CodeGenBlock(\n",
      "        (ln_1): LayerNorm((1024,), eps=1e-05, elementwise_affine=True)\n",
      "        (attn): CodeGenAttention(\n",
      "          (attn_dropout): Dropout(p=0.0, inplace=False)\n",
      "          (resid_dropout): Dropout(p=0.0, inplace=False)\n",
      "          (qkv_proj): Linear(in_features=1024, out_features=3072, bias=False)\n",
      "          (out_proj): Linear(in_features=1024, out_features=1024, bias=False)\n",
      "        )\n",
      "        (mlp): CodeGenMLP(\n",
      "          (fc_in): Linear(in_features=1024, out_features=4096, bias=True)\n",
      "          (fc_out): Linear(in_features=4096, out_features=1024, bias=True)\n",
      "          (act): NewGELUActivation()\n",
      "          (dropout): Dropout(p=0.0, inplace=False)\n",
      "        )\n",
      "      )\n",
      "    )\n",
      "    (ln_f): LayerNorm((1024,), eps=1e-05, elementwise_affine=True)\n",
      "  )\n",
      "  (lm_head): Linear(in_features=1024, out_features=51200, bias=True)\n",
      ")\n"
     ]
    }
   ],
   "source": [
    "def replace_linear_with_target_and_quantize_smq(module, \n",
    "                               target_class, module_name_to_exclude):\n",
    "  \n",
    "    for name, child in module.named_children():\n",
    "        if isinstance(child, nn.Linear):\n",
    "            old_bias = child.bias\n",
    "\n",
    "            new_module = target_class.from_float(child, quantize_output=False) #,  weight_quant=\"per_token\", act_quant=\"per_token\")\n",
    "           \n",
    "            setattr(module, name, new_module)\n",
    "            \n",
    "        else:\n",
    "            # Recursively call the function for nested modules\n",
    "            replace_linear_with_target_and_quantize_smq(child, \n",
    "                     target_class, module_name_to_exclude)\n",
    "\n",
    "# del model\n",
    "model = AutoModelForCausalLM.from_pretrained(model_id, \n",
    "                                    torch_dtype=torch.bfloat16, \n",
    "                                             low_cpu_mem_usage=True)\n",
    "\n",
    "pipe = pipeline(\"text-generation\", model=model, tokenizer=tokenizer)\n",
    "\n",
    "print(\"Model:\", pipe.model)\n"
   ]
  },
  {
   "cell_type": "code",
   "execution_count": 11,
   "metadata": {},
   "outputs": [
    {
     "name": "stdout",
     "output_type": "stream",
     "text": [
      "Model after:\n",
      "\n",
      " CodeGenForCausalLM(\n",
      "  (transformer): CodeGenModel(\n",
      "    (wte): Embedding(51200, 1024)\n",
      "    (drop): Dropout(p=0.0, inplace=False)\n",
      "    (h): ModuleList(\n",
      "      (0-19): 20 x CodeGenBlock(\n",
      "        (ln_1): LayerNorm((1024,), eps=1e-05, elementwise_affine=True)\n",
      "        (attn): CodeGenAttention(\n",
      "          (attn_dropout): Dropout(p=0.0, inplace=False)\n",
      "          (resid_dropout): Dropout(p=0.0, inplace=False)\n",
      "          (qkv_proj): W8A8Linear-smq(1024, 3072, bias=False, weight_quant=per_channel, act_quant=per_token, output_quant=None)\n",
      "          (out_proj): W8A8Linear-smq(1024, 1024, bias=False, weight_quant=per_channel, act_quant=per_token, output_quant=None)\n",
      "        )\n",
      "        (mlp): CodeGenMLP(\n",
      "          (fc_in): W8A8Linear-smq(1024, 4096, bias=True, weight_quant=per_channel, act_quant=per_token, output_quant=None)\n",
      "          (fc_out): W8A8Linear-smq(4096, 1024, bias=True, weight_quant=per_channel, act_quant=per_token, output_quant=None)\n",
      "          (act): NewGELUActivation()\n",
      "          (dropout): Dropout(p=0.0, inplace=False)\n",
      "        )\n",
      "      )\n",
      "    )\n",
      "    (ln_f): LayerNorm((1024,), eps=1e-05, elementwise_affine=True)\n",
      "  )\n",
      "  (lm_head): W8A8Linear-smq(1024, 51200, bias=True, weight_quant=per_channel, act_quant=per_token, output_quant=None)\n",
      ")\n"
     ]
    }
   ],
   "source": [
    "replace_linear_with_target_and_quantize_smq(model, W8A8, [\"lm_head\"])\n",
    "\n",
    "print(\"Model Post Replacement:\\n\\n\", pipe.model)\n"
   ]
  },
  {
   "cell_type": "code",
   "execution_count": null,
   "metadata": {},
   "outputs": [],
   "source": [
    "print(pipe(\"def hello_world():\", max_new_tokens=20, \n",
    "           do_sample=False)[0][\"generated_text\"])"
   ]
  },
  {
   "cell_type": "markdown",
   "metadata": {},
   "source": []
  }
 ],
 "metadata": {
  "kernelspec": {
   "display_name": "base",
   "language": "python",
   "name": "python3"
  },
  "language_info": {
   "codemirror_mode": {
    "name": "ipython",
    "version": 3
   },
   "file_extension": ".py",
   "mimetype": "text/x-python",
   "name": "python",
   "nbconvert_exporter": "python",
   "pygments_lexer": "ipython3",
   "version": "3.11.7"
  }
 },
 "nbformat": 4,
 "nbformat_minor": 2
}
